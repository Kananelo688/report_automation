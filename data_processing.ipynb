{
 "cells": [
  {
   "cell_type": "markdown",
   "id": "8c83e643-23d7-43d0-9b6f-6585cbe5b3a1",
   "metadata": {},
   "source": [
    "# Data Processing: \n",
    "## A packaget that holds classes and function for manipulating data for automating ETL's report generating"
   ]
  },
  {
   "cell_type": "code",
   "execution_count": 18,
   "id": "b4facb0b-3cf3-44e4-b963-e7a7454fe67d",
   "metadata": {},
   "outputs": [],
   "source": [
    "import openpyxl as xl\n",
    "import pandas as pd\n",
    "from statistics import mean\n",
    "from datetime import datetime,timedelta"
   ]
  },
  {
   "cell_type": "code",
   "execution_count": 19,
   "id": "4d18213a-9769-402a-bb31-294ce559f464",
   "metadata": {},
   "outputs": [],
   "source": [
    "AGGREGATION_FUNCTIONS = ['mean','max','min','sum','count']"
   ]
  },
  {
   "cell_type": "code",
   "execution_count": 25,
   "id": "791d624e-e697-40bd-8caf-7fff8a417e9f",
   "metadata": {},
   "outputs": [],
   "source": [
    "def pivot_table_data(worksheet,primary_keys:list,data_column:str)->dict:\n",
    "    \"\"\"\n",
    "    Extracts the data that mimics spreadsheet's privot table.\n",
    "    -------\n",
    "    Parameters:\n",
    "    worksheet(Worksheet): an openpyxl worksheet object.\n",
    "\n",
    "    primary_keys(list): list of columns names that will be used as primary keys. Must be of max of 2(row,col).\n",
    "\n",
    "    data_column(str):The column number of the data field for this table.\n",
    "    \"\"\"\n",
    "    #validate arguments\n",
    "    simple= True\n",
    "    if len(primary_keys)>2:\n",
    "        raise ValueError(f\"Expected at most 2 primary_keys. Given {len(primary_keys)} primary keys\")\n",
    "    elif len(primary_keys)==2:\n",
    "        if primary_keys[0] == primary_keys[1]:\n",
    "            simple = True\n",
    "        else:\n",
    "            simple = False\n",
    "            \n",
    "    data = dict()\n",
    "\n",
    "    #search for the given column names:\n",
    "    cols = worksheet.iter_cols( max_row = 1,values_only=True)\n",
    "    col_names = list()\n",
    "    for col in cols:\n",
    "        col_names.append(col[0])\n",
    "\n",
    "    \n",
    "    if data_column in col_names:\n",
    "        data_column_number = col_names.index(data_column)+1\n",
    "    else:\n",
    "        raise ValueError(f\"Given data_column  of '{data_column}' does not exist in the sheet.\")\n",
    "    if primary_keys[0] in col_names:\n",
    "        key_1 = col_names.index(primary_keys[0])+1\n",
    "    else:\n",
    "        raise ValueError(f\"Given column name of '{primary_keys[0]}' does not exist in the sheet.\")\n",
    "    if not simple:\n",
    "        if primary_keys[1] in col_names:\n",
    "            key_2 = col_names.index(primary_keys[1])+1\n",
    "        else:\n",
    "            raise ValueError(f\"Given column name of '{primary_keys[1]}' does not exist in the sheet.\")\n",
    "            \n",
    "        \n",
    "    for row in worksheet.iter_rows(min_row = 2,min_col = 1, max_col = data_column_number):\n",
    "        if simple:\n",
    "            key = row[key_1-1].value\n",
    "        else:\n",
    "            key = (row[key_1-1].value,row[key_2-1].value)\n",
    "        if isinstance(key,datetime):\n",
    "            key  = key.date()\n",
    "        if key in data:\n",
    "            data[key].append(row[data_column_number-1].value)\n",
    "        else:\n",
    "            data[key] = [row[data_column_number-1].value]\n",
    "    return data"
   ]
  },
  {
   "cell_type": "code",
   "execution_count": 26,
   "id": "b04f0397-b142-4f0c-a8b9-25fa51003508",
   "metadata": {},
   "outputs": [],
   "source": [
    "def text_to_columns(worksheet, column_number, separator=\" \"):\n",
    "    \"\"\"\n",
    "    Split text into columns\n",
    "    \"\"\"\n",
    "    for i in range(1, worksheet.max_row + 1):\n",
    "        if isinstance(worksheet.cell(row=i, column= column_number).value,str):\n",
    "            split_cell = worksheet.cell(row=i, column= column_number).value.split(separator)\n",
    "        for j in range(len(split_cell)):\n",
    "            worksheet.cell(row=i,column=column_number+j).value=split_cell[j]"
   ]
  },
  {
   "cell_type": "code",
   "execution_count": 27,
   "id": "a19169f6-d4cf-4a24-bca7-bed0dcdfe557",
   "metadata": {},
   "outputs": [],
   "source": [
    "class KPI:\n",
    "    \"\"\"\n",
    "    Represents 3G or 4G KPI object.\n",
    "    \"\"\"\n",
    "    def __init__(self,kpi_name, agg_fun):\n",
    "        \"\"\"\n",
    "            Creates new instances of KPI object, and empty, data container.\n",
    "        \"\"\"\n",
    "        self.kpi_name = kpi_name\n",
    "        if agg_fun not in AGGREGATION_FUNCTIONS:\n",
    "            raise ValueError(f\"Given aggregation function of '{agg_fun}' is not supported. Supported functions are: {AGGREGATION_FUNCTIONS}.\")\n",
    "        self.agg_fun = agg_fun\n",
    "        self.data = dict()\n",
    "   \n",
    "    def generate_pivot_table(self, data):\n",
    "        \"\"\"\n",
    "            Adds the data of this KPI based on the agg_fun. The data parameter must be dictionary, generated\n",
    "            by pivot_table_data function.\n",
    "        \"\"\"\n",
    "        if self.agg_fun == 'mean':\n",
    "            for key in data:\n",
    "                self.data[key] = mean(data[key])\n",
    "        elif self.agg_fun == 'max':\n",
    "            for key in data:\n",
    "                self.data[key] = max(data[key])\n",
    "        elif self.agg_fun == 'min':\n",
    "            for key in data:\n",
    "                self.data[key] = min(data[key])\n",
    "        elif self.agg_fun == 'sum':\n",
    "            for key in data:\n",
    "                self.data[key] = sum(data[key])\n",
    "        elif self.agg_fun == 'count':\n",
    "            for key in data:\n",
    "                self.data[key] = len(data[key])"
   ]
  },
  {
   "cell_type": "markdown",
   "id": "9aedcdbb-b79d-492f-bb8c-1d2c84c3a9f0",
   "metadata": {},
   "source": [
    "## Testing Script"
   ]
  },
  {
   "cell_type": "code",
   "execution_count": 28,
   "id": "af58b2c6-44c3-40a8-8e6e-ba7f5b084673",
   "metadata": {},
   "outputs": [],
   "source": [
    "#wb = xl.load_workbook('Attach KPIs_20250331093842_1.xlsx')"
   ]
  },
  {
   "cell_type": "code",
   "execution_count": 29,
   "id": "58b4fd54-b1b6-429c-883b-374bd29eb6f1",
   "metadata": {},
   "outputs": [],
   "source": [
    "#ws = wb['sheet1']"
   ]
  },
  {
   "cell_type": "code",
   "execution_count": 15,
   "id": "1f329b62-b483-43ae-88a5-afd50d3824a2",
   "metadata": {},
   "outputs": [],
   "source": [
    "#kpi = KPI ('Maximum number of attached subscribers(UMTS)', 'max')"
   ]
  },
  {
   "cell_type": "code",
   "execution_count": 30,
   "id": "ec045b7d-3ff6-4604-9667-ed32a6911947",
   "metadata": {},
   "outputs": [],
   "source": [
    "#data = pivot_table_data(ws, ['Start'],kpi.kpi_name)"
   ]
  },
  {
   "cell_type": "code",
   "execution_count": 36,
   "id": "73079af8-bd83-4e8f-a209-5294a332abb2",
   "metadata": {},
   "outputs": [
    {
     "name": "stdout",
     "output_type": "stream",
     "text": [
      "[datetime.date(2025, 3, 22), datetime.date(2025, 3, 23), datetime.date(2025, 3, 24), datetime.date(2025, 3, 25), datetime.date(2025, 3, 26), datetime.date(2025, 3, 27), datetime.date(2025, 3, 28), datetime.date(2025, 3, 29), datetime.date(2025, 3, 30), datetime.date(2025, 3, 31)]\n"
     ]
    }
   ],
   "source": [
    "#print(list(data.keys()))"
   ]
  },
  {
   "cell_type": "code",
   "execution_count": 37,
   "id": "b8cb13a2-3c92-4bc1-892e-59096da8e4a2",
   "metadata": {},
   "outputs": [],
   "source": [
    "#kpi.generate_pivot_table(data)"
   ]
  },
  {
   "cell_type": "code",
   "execution_count": null,
   "id": "eb6f6aa0-8196-4a5c-9cf5-648b555f107a",
   "metadata": {},
   "outputs": [],
   "source": []
  }
 ],
 "metadata": {
  "kernelspec": {
   "display_name": "Python 3 (ipykernel)",
   "language": "python",
   "name": "python3"
  },
  "language_info": {
   "codemirror_mode": {
    "name": "ipython",
    "version": 3
   },
   "file_extension": ".py",
   "mimetype": "text/x-python",
   "name": "python",
   "nbconvert_exporter": "python",
   "pygments_lexer": "ipython3",
   "version": "3.10.12"
  }
 },
 "nbformat": 4,
 "nbformat_minor": 5
}
