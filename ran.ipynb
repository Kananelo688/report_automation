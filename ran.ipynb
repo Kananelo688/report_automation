{
 "cells": [
  {
   "cell_type": "markdown",
   "id": "4290000b-f4cc-49ea-b380-2d7d3a74c74c",
   "metadata": {},
   "source": [
    "### Module that documents functions and Classes that automate QLIK ETL RAN data computation, straight from the stats"
   ]
  },
  {
   "cell_type": "code",
   "execution_count": 3,
   "id": "82b1d3a7-708e-46f8-899c-fabb5fc1821c",
   "metadata": {},
   "outputs": [],
   "source": [
    "import openpyxl as xl\n",
    "import data_processing as dp\n",
    "from datetime import datetime, date, timedelta"
   ]
  },
  {
   "cell_type": "code",
   "execution_count": null,
   "id": "573b9127-f3ed-45dd-874f-ddf25516cd07",
   "metadata": {},
   "outputs": [],
   "source": [
    "ETL_SITES = list()\n",
    "\n",
    "ETL_ROUTERS = list()"
   ]
  },
  {
   "cell_type": "code",
   "execution_count": null,
   "id": "43083fc3-076d-4ad2-824b-efa24cae1ba6",
   "metadata": {},
   "outputs": [],
   "source": [
    "class Router:\n",
    "    \"Represents the Router where Sites are connected\"\n",
    "\n",
    "    def __init__(self, name):\n",
    "        self.router_name = name\n",
    "        self.sites = list()\n",
    "    def add_site(self"
   ]
  },
  {
   "cell_type": "code",
   "execution_count": null,
   "id": "ee4505de-84cf-40d4-962f-dd25c7bbd435",
   "metadata": {},
   "outputs": [],
   "source": []
  },
  {
   "cell_type": "code",
   "execution_count": 31,
   "id": "053b446d-7ac3-42fb-a222-aebde4bc8081",
   "metadata": {},
   "outputs": [],
   "source": [
    "class Site:\n",
    "    \"\"\"\n",
    "    Represents a Telecommunication Site(Base Station)\n",
    "    \"\"\"\n",
    "    def __init__(self,name,router,district):\n",
    "        \"\"\"\n",
    "        Creates a new object of Site, given the name, the router andf the district\n",
    "\n",
    "        ----------\n",
    "        Parameters:\n",
    "        name(str): The name of trh Site (include of the technology on that site)\n",
    "\n",
    "        router(str): The name of trh router where the site is connected.\n",
    "\n",
    "        district(str): The district, in Lesotho, where the site is located.\n",
    "        \"\"\"\n",
    "        self.site_name = name\n",
    "        self.router = router\n",
    "        self.district = district\n",
    "\n",
    "        #Create empty couter that will keeps site's KPI's\n",
    "        self.site_KPIs = dict() #key=KPI_name, value = KPI Object from the data_processing module\n",
    "    def add_KPI(self, kpi_name, kpi):\n",
    "        \"\"\"\n",
    "        Adds a new KPI object to the container  of this Site's KPIs\n",
    "\n",
    "        --------\n",
    "        Parameters:\n",
    "        kpi_name(str): The name of this KPI.Will be used as the key in this container\n",
    "\n",
    "        kpi(KPI): The object of KPI classs that represents KPI.\n",
    "        \"\"\"\n",
    "        \n",
    "        if kpi_name not in self.site_KPIs:\n",
    "            self.site_KPIs[kpi_name] = kpi\n",
    "        else:\n",
    "            raise KeyError(f\"Site KPI of {kpi_name} already exists.\")"
   ]
  },
  {
   "cell_type": "code",
   "execution_count": 28,
   "id": "e89ac945-a7d3-4a37-a6f4-ebf8d70da6ea",
   "metadata": {},
   "outputs": [],
   "source": [
    "khubetsoana = Site('Khubetsoana','MBT_A23', 'Berea')"
   ]
  },
  {
   "cell_type": "code",
   "execution_count": 29,
   "id": "c8c728d0-1c70-4422-b9d1-4dcd4cd0a273",
   "metadata": {},
   "outputs": [],
   "source": [
    "khubetsoana.add_KPI('2G_Packet_Loss',dp.KPI('packet_loss','mean'))"
   ]
  },
  {
   "cell_type": "code",
   "execution_count": 30,
   "id": "8e53ba2c-2c7b-41e9-8dd1-b25e52c2307f",
   "metadata": {
    "scrolled": true
   },
   "outputs": [
    {
     "ename": "NameError",
     "evalue": "name 'KeyErrors' is not defined",
     "output_type": "error",
     "traceback": [
      "\u001b[0;31m---------------------------------------------------------------------------\u001b[0m",
      "\u001b[0;31mNameError\u001b[0m                                 Traceback (most recent call last)",
      "Cell \u001b[0;32mIn[30], line 1\u001b[0m\n\u001b[0;32m----> 1\u001b[0m \u001b[43mkhubetsoana\u001b[49m\u001b[38;5;241;43m.\u001b[39;49m\u001b[43madd_KPI\u001b[49m\u001b[43m(\u001b[49m\u001b[38;5;124;43m'\u001b[39;49m\u001b[38;5;124;43m2G_Packet_Loss\u001b[39;49m\u001b[38;5;124;43m'\u001b[39;49m\u001b[43m,\u001b[49m\u001b[43mdp\u001b[49m\u001b[38;5;241;43m.\u001b[39;49m\u001b[43mKPI\u001b[49m\u001b[43m(\u001b[49m\u001b[38;5;124;43m'\u001b[39;49m\u001b[38;5;124;43mpacket_loss\u001b[39;49m\u001b[38;5;124;43m'\u001b[39;49m\u001b[43m,\u001b[49m\u001b[38;5;124;43m'\u001b[39;49m\u001b[38;5;124;43mmean\u001b[39;49m\u001b[38;5;124;43m'\u001b[39;49m\u001b[43m)\u001b[49m\u001b[43m)\u001b[49m\n",
      "Cell \u001b[0;32mIn[27], line 27\u001b[0m, in \u001b[0;36mSite.add_KPI\u001b[0;34m(self, kpi_name, kpi)\u001b[0m\n\u001b[1;32m     25\u001b[0m     \u001b[38;5;28mself\u001b[39m\u001b[38;5;241m.\u001b[39msite_KPIs[kpi_name] \u001b[38;5;241m=\u001b[39m kpi\n\u001b[1;32m     26\u001b[0m \u001b[38;5;28;01melse\u001b[39;00m:\n\u001b[0;32m---> 27\u001b[0m     \u001b[38;5;28;01mraise\u001b[39;00m \u001b[43mKeyErrors\u001b[49m(\u001b[38;5;124mf\u001b[39m\u001b[38;5;124m\"\u001b[39m\u001b[38;5;124mSite KPI of \u001b[39m\u001b[38;5;132;01m{\u001b[39;00mkpi_name\u001b[38;5;132;01m}\u001b[39;00m\u001b[38;5;124m already exists.\u001b[39m\u001b[38;5;124m\"\u001b[39m)\n",
      "\u001b[0;31mNameError\u001b[0m: name 'KeyErrors' is not defined"
     ]
    }
   ],
   "source": [
    "khubetsoana.add_KPI('2G_Packet_Loss',dp.KPI('packet_loss','mean'))"
   ]
  },
  {
   "cell_type": "code",
   "execution_count": 6,
   "id": "02160c28-fdc9-4cad-b1c5-7d510d85083d",
   "metadata": {},
   "outputs": [],
   "source": [
    "wb =xl.load_workbook('Qlik_RAN_Test.xlsx')"
   ]
  },
  {
   "cell_type": "code",
   "execution_count": 7,
   "id": "67493acf-56be-41d2-ac4b-17c6e3e0a396",
   "metadata": {},
   "outputs": [],
   "source": [
    "ws = wb.active"
   ]
  },
  {
   "cell_type": "code",
   "execution_count": 16,
   "id": "4c145f06-3fe3-4d25-ba6c-f0f8d9d762da",
   "metadata": {},
   "outputs": [],
   "source": [
    "val = ws.cell(row = 2,column=4)"
   ]
  },
  {
   "cell_type": "code",
   "execution_count": 17,
   "id": "cdddb7ae-5abf-477d-8c4d-e893e33fe8f7",
   "metadata": {},
   "outputs": [
    {
     "data": {
      "text/plain": [
       "<Cell 'ETL RAN'.D2>"
      ]
     },
     "execution_count": 17,
     "metadata": {},
     "output_type": "execute_result"
    }
   ],
   "source": [
    "val"
   ]
  },
  {
   "cell_type": "code",
   "execution_count": 18,
   "id": "658140bc-8aab-4b1a-8d5f-4796d879df30",
   "metadata": {},
   "outputs": [
    {
     "data": {
      "text/plain": [
       "'0.00%'"
      ]
     },
     "execution_count": 18,
     "metadata": {},
     "output_type": "execute_result"
    }
   ],
   "source": [
    "val.number_format"
   ]
  },
  {
   "cell_type": "code",
   "execution_count": null,
   "id": "f4e97519-d8fc-4e46-9cda-70c75246dd75",
   "metadata": {},
   "outputs": [],
   "source": []
  }
 ],
 "metadata": {
  "kernelspec": {
   "display_name": "Python 3 (ipykernel)",
   "language": "python",
   "name": "python3"
  },
  "language_info": {
   "codemirror_mode": {
    "name": "ipython",
    "version": 3
   },
   "file_extension": ".py",
   "mimetype": "text/x-python",
   "name": "python",
   "nbconvert_exporter": "python",
   "pygments_lexer": "ipython3",
   "version": "3.10.12"
  }
 },
 "nbformat": 4,
 "nbformat_minor": 5
}
